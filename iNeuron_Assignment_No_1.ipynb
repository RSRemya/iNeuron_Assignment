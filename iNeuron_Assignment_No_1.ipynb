{
  "nbformat": 4,
  "nbformat_minor": 0,
  "metadata": {
    "colab": {
      "provenance": [],
      "collapsed_sections": []
    },
    "kernelspec": {
      "name": "python3",
      "display_name": "Python 3"
    },
    "language_info": {
      "name": "python"
    }
  },
  "cells": [
    {
      "cell_type": "markdown",
      "source": [
        "# **1. Find out all the types of error that we have encountered in our lecture and why? Also include the examples.**"
      ],
      "metadata": {
        "id": "whUx2yJMpt9U"
      }
    },
    {
      "cell_type": "markdown",
      "source": [
        "*i. For case sensetivity:*"
      ],
      "metadata": {
        "id": "YwxN2K7eerWB"
      }
    },
    {
      "cell_type": "code",
      "source": [
        "TEN = 10\n",
        "ten = 20\n",
        "print(ten)"
      ],
      "metadata": {
        "colab": {
          "base_uri": "https://localhost:8080/"
        },
        "id": "T9H4b0d9fq_e",
        "outputId": "d3ce7cd5-4280-457d-8b26-b66ff99201a6"
      },
      "execution_count": null,
      "outputs": [
        {
          "output_type": "stream",
          "name": "stdout",
          "text": [
            "20\n"
          ]
        }
      ]
    },
    {
      "cell_type": "markdown",
      "source": [
        "*ii. We should not use reserved words as variable names*"
      ],
      "metadata": {
        "id": "INb04RXUf5f9"
      }
    },
    {
      "cell_type": "code",
      "source": [
        "print(\"Hi there\")\n",
        "\n",
        "Print = \"Hi there\" # as a variable\n",
        "type(Print)\n",
        "\n",
        "print(\"Hi there\")"
      ],
      "metadata": {
        "colab": {
          "base_uri": "https://localhost:8080/"
        },
        "id": "9dd7ZQobeUOK",
        "outputId": "dfcc38cc-37cb-4fae-bcda-9febec91c4a6"
      },
      "execution_count": null,
      "outputs": [
        {
          "output_type": "stream",
          "name": "stdout",
          "text": [
            "Hi there\n",
            "Hi there\n"
          ]
        }
      ]
    },
    {
      "cell_type": "code",
      "source": [
        "# delete the variable print\n",
        "del print "
      ],
      "metadata": {
        "id": "RhbfFLCTgfP9"
      },
      "execution_count": null,
      "outputs": []
    },
    {
      "cell_type": "markdown",
      "source": [
        "*iii. Whenever we will take user input variable, we should mention the datatype. Because by default it takes as string literal. Thy for next use, the input can create an issue, like through an error or may lead to an unexpected output.*"
      ],
      "metadata": {
        "id": "QLuRHVoWgybH"
      }
    },
    {
      "cell_type": "code",
      "source": [
        "# calcualte the age of the user\n",
        "\n",
        "name = input(\"Name: \") # always gives you string values\n",
        "place = input(\"place: \")\n",
        "year_of_birth = int(input(\"year_of_birth: \"))\n",
        "\n",
        "age = 2022 - year_of_birth\n",
        "\n",
        "print(f\"\"\"\n",
        "My name is: {name}\n",
        "I live at: {place}\n",
        "{name} is of age: {age}\n",
        "\"\"\")"
      ],
      "metadata": {
        "colab": {
          "base_uri": "https://localhost:8080/"
        },
        "id": "FQBBKWCBh0vj",
        "outputId": "f6389a08-e998-4566-9b3a-c41001685727"
      },
      "execution_count": null,
      "outputs": [
        {
          "output_type": "stream",
          "name": "stdout",
          "text": [
            "Name: Remya\n",
            "place: Kerala\n",
            "year_of_birth: 1989\n",
            "\n",
            "My name is: Remya\n",
            "I live at: Kerala\n",
            "Remya is of age: 33\n",
            "\n"
          ]
        }
      ]
    },
    {
      "cell_type": "markdown",
      "source": [
        "*iv. If we mentioned the datatype of input variable, then we need to remember, while putting the value, we need to put exact mentioned datatype's value.*"
      ],
      "metadata": {
        "id": "Qc47Mk-0ii2p"
      }
    },
    {
      "cell_type": "code",
      "source": [
        "A = float(input(\"Enter value of A: \"))\n",
        "B = float(input(\"Enter value of B: \")) # 10.2 is float but converting to int\n",
        "\n",
        "print(f\"Sum of A and B is: {A+B}\")"
      ],
      "metadata": {
        "colab": {
          "base_uri": "https://localhost:8080/"
        },
        "id": "5K-IHhtvjlFR",
        "outputId": "c7a4b70d-b7f2-4984-cd9d-1e7118924a56"
      },
      "execution_count": null,
      "outputs": [
        {
          "output_type": "stream",
          "name": "stdout",
          "text": [
            "Enter value of A: 5.6\n",
            "Enter value of B: 4.9\n",
            "Sum of A and B is: 10.5\n"
          ]
        }
      ]
    },
    {
      "cell_type": "markdown",
      "source": [
        "*v. We can't change an empty string to any datatype*"
      ],
      "metadata": {
        "id": "jtE_-Q3DkD7P"
      }
    },
    {
      "cell_type": "code",
      "source": [
        "# empty string to int\n",
        "A = \"4\"\n",
        "print(f\"data type before: {type(A)}, value of A: {A}\")\n",
        "A = int(A)\n",
        "print(f\"data type after: {type(A)}, value of A: {A}\")"
      ],
      "metadata": {
        "colab": {
          "base_uri": "https://localhost:8080/"
        },
        "id": "AJZoOah3kPvE",
        "outputId": "4c97bac1-890f-4f49-e62c-0bd7310fe22b"
      },
      "execution_count": null,
      "outputs": [
        {
          "output_type": "stream",
          "name": "stdout",
          "text": [
            "data type before: <class 'str'>, value of A: 4\n",
            "data type after: <class 'int'>, value of A: 4\n"
          ]
        }
      ]
    },
    {
      "cell_type": "markdown",
      "source": [
        "# **2. Take input A and B and print their sum, mul, div, square of the nos.**"
      ],
      "metadata": {
        "id": "xhagdikQpy65"
      }
    },
    {
      "cell_type": "code",
      "source": [
        "# taking the user inputs\n",
        "a = int(input(\"Enter 1st number: \"))\n",
        "b = int(input(\"Enter 2nd number: \"))\n",
        "\n",
        "# mathematical equations\n",
        "sum = a + b\n",
        "mul = a * b\n",
        "div = a / b\n",
        "square = a ** 2\n",
        "\n",
        "print()\n",
        "\n",
        "# printing the results\n",
        "print(f\"The 'sum' of {a} & {b} is: {sum}\")\n",
        "print(f\"The 'mul' of {a} & {b} is: {mul}\")\n",
        "print(f\"The 'div' of {a} & {b} is: {div}\")\n",
        "print(f\"The 'square' of {a} & {b} is: {square}\")"
      ],
      "metadata": {
        "colab": {
          "base_uri": "https://localhost:8080/"
        },
        "id": "yptX2KXHqyxv",
        "outputId": "a3453d07-9507-4830-b15a-58061e1e753b"
      },
      "execution_count": null,
      "outputs": [
        {
          "output_type": "stream",
          "name": "stdout",
          "text": [
            "Enter 1st number: 2001\n",
            "Enter 2nd number: 1998\n",
            "\n",
            "The 'sum' of 2001 & 1998 is: 3999\n",
            "The 'mul' of 2001 & 1998 is: 3997998\n",
            "The 'div' of 2001 & 1998 is: 1.0015015015015014\n",
            "The 'square' of 2001 & 1998 is: 4004001\n"
          ]
        }
      ]
    },
    {
      "cell_type": "markdown",
      "source": [
        "# **3. How many reserve keywords are there in python and why we should not use them as a variable name.**"
      ],
      "metadata": {
        "id": "FJwFdkUrp52W"
      }
    },
    {
      "cell_type": "markdown",
      "source": [
        "* There are only 33 reserve keywords in python.\n",
        "* We shouldn't use those as variable name because if I will use those words as variable, then those might revert in the data type of the variable, and for future use of those variable as keywords, will through an error."
      ],
      "metadata": {
        "id": "hYwbegFVxh9F"
      }
    },
    {
      "cell_type": "markdown",
      "source": [
        "# **4. Create email ids with the user inputs. in the following format - lastname.firstname@gmail.com**"
      ],
      "metadata": {
        "id": "h1lh17Jup_3b"
      }
    },
    {
      "cell_type": "code",
      "source": [
        "# taking the user inputs\n",
        "first_name = input(\"Enter the first name: \")\n",
        "last_name = input(\"Enter the last name: \")\n",
        "\n",
        "# creating the email id\n",
        "print(f\"The user email id is: {last_name}.{first_name}@gmail.com\")"
      ],
      "metadata": {
        "colab": {
          "base_uri": "https://localhost:8080/"
        },
        "id": "RnF9bV_9xk2C",
        "outputId": "38f33553-6e0d-4489-d441-82359d935fae"
      },
      "execution_count": null,
      "outputs": [
        {
          "output_type": "stream",
          "name": "stdout",
          "text": [
            "Enter the first name: riya\n",
            "Enter the last name: dey\n",
            "The user email id is: dey.riya@gmail.com\n"
          ]
        }
      ]
    },
    {
      "cell_type": "markdown",
      "source": [
        "# 5. Try to print the following lines -\n",
        " * **Hi I'm Sunny**\n",
        " * **My address is 22\\3**\n",
        " * **I earn 20$ daily.**  "
      ],
      "metadata": {
        "id": "arBj5wPFqJSd"
      }
    },
    {
      "cell_type": "code",
      "source": [
        "# taking the user inputs\n",
        "statement_1 = \"Hi I'm Sunny\"\n",
        "statement_2 = \"My address is 22\\\\3\"\n",
        "statement_3 = \"I earn 20$ daily.\"\n",
        "\n",
        "# printing the statements\n",
        "print(f\"The 1st statement is: {statement_1}\")\n",
        "print(f\"The 2nd statement is: {statement_2}\")\n",
        "print(f\"The 3rd statement is: {statement_3}\")"
      ],
      "metadata": {
        "colab": {
          "base_uri": "https://localhost:8080/"
        },
        "id": "n9JjyoJS0lXn",
        "outputId": "8319bf1c-eb3c-4839-f2f8-b558b4c92cc6"
      },
      "execution_count": null,
      "outputs": [
        {
          "output_type": "stream",
          "name": "stdout",
          "text": [
            "The 1st statement is: Hi I'm Sunny\n",
            "The 2nd statement is: My address is 22\\3\n",
            "The 3rd statement is: I earn 20$ daily.\n"
          ]
        }
      ]
    },
    {
      "cell_type": "markdown",
      "source": [
        "# **6. Take user input (name, address, date of birth etc) to fill a form for your college and print their email IDs**"
      ],
      "metadata": {
        "id": "B8BGpUL4qU3U"
      }
    },
    {
      "cell_type": "code",
      "source": [
        "# taking the user inputs\n",
        "first_name = input(\"Enter your first name: \")\n",
        "last_name = input(\"Enter your last name: \")\n",
        "\n",
        "house_no = input(\"Enter your house_no: \")\n",
        "vill_or_city = input(\"Enter your Village/City name: \")\n",
        "po = input(\"Enter your Post Office: \")\n",
        "ps = input(\"Enter your Police Station: \")\n",
        "pin = input(\"Enter your Postal Code: \")\n",
        "dist = input(\"Enter your District: \")\n",
        "state = input(\"Enter your State: \")\n",
        "\n",
        "dob = input(\"Enter your date of birth: \")\n",
        "\n",
        "# printing the outputs\n",
        "print(f\"\\nYour full name: {first_name} {last_name}\")\n",
        "\n",
        "print()\n",
        "\n",
        "print(f\"\"\"Your full address:- \n",
        "house_no: {house_no},\n",
        "Village/City name: {vill_or_city},\n",
        "Post Office: {po},\n",
        "Police Station: {ps},\n",
        "Postal Code: {pin},\n",
        "District: {dist},\n",
        "State: {state}\"\"\")\n",
        "\n",
        "print()\n",
        "\n",
        "print(f\"Your D.O.B. is: {dob}\")\n",
        "\n",
        "print()\n",
        "\n",
        "\n",
        "# creating the email id\n",
        "print(f\"The user email id is: {(last_name.lower())}.{(first_name.lower())}@gmail.com\")"
      ],
      "metadata": {
        "colab": {
          "base_uri": "https://localhost:8080/"
        },
        "id": "AAqIEtAv2Xmt",
        "outputId": "550d6057-aa07-4c28-e28f-a329c0507d11"
      },
      "execution_count": null,
      "outputs": [
        {
          "output_type": "stream",
          "name": "stdout",
          "text": [
            "Enter your first name: Padma\n",
            "Enter your last name: Dey\n",
            "Enter your house_no: N0018\n",
            "Enter your Village/City name: West Jagadanandapur\n",
            "Enter your Post Office: Bethuadahari\n",
            "Enter your Police Station: Nakashipara\n",
            "Enter your Postal Code: 741126\n",
            "Enter your District: Nadia\n",
            "Enter your State: West Bengal\n",
            "Enter your date of birth: 05/09/1998\n",
            "\n",
            "Your full name: Padma Dey\n",
            "\n",
            "Your full address:- \n",
            "house_no: N0018,\n",
            "Village/City name: West Jagadanandapur,\n",
            "Post Office: Bethuadahari,\n",
            "Police Station: Nakashipara,\n",
            "Postal Code: 741126,\n",
            "District: Nadia,\n",
            "State: West Bengal\n",
            "\n",
            "Your D.O.B. is: 05/09/1998\n",
            "\n",
            "The user email id is: dey.padma@gmail.com\n"
          ]
        }
      ]
    },
    {
      "cell_type": "markdown",
      "source": [
        "7. Convert the following -\n",
        " * \"22.4\" into integer\n",
        " * \"22\" into complex no."
      ],
      "metadata": {
        "id": "9YBUnfLeqbfK"
      }
    },
    {
      "cell_type": "code",
      "execution_count": null,
      "metadata": {
        "colab": {
          "base_uri": "https://localhost:8080/"
        },
        "id": "7Hqv1aldpLMP",
        "outputId": "5f6424b9-30a6-45d6-d1a1-bde7c27d3da4"
      },
      "outputs": [
        {
          "output_type": "stream",
          "name": "stdout",
          "text": [
            "The data type of given number is: <class 'float'>, value of x: 22.4\n",
            "After converting '22.4' into integer: 22\n",
            "\n",
            "The data type of given number is: <class 'int'>, value of x: 22\n",
            "After converting '22' into float: 22.0\n"
          ]
        }
      ],
      "source": [
        "# float to integer\n",
        "x = 22.4\n",
        "print(f\"The data type of given number is: {type(x)}, value of x: {x}\")\n",
        "x = int(x)\n",
        "print(f\"After converting '22.4' into integer: {x}\")\n",
        "\n",
        "print()\n",
        "\n",
        "# integer to float\n",
        "y = 22\n",
        "print(f\"The data type of given number is: {type(y)}, value of x: {y}\")\n",
        "y = float(y)\n",
        "print(f\"After converting '22' into float: {y}\")"
      ]
    }
  ]
}