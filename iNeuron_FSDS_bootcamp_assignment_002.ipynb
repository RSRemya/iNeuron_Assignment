{
  "nbformat": 4,
  "nbformat_minor": 0,
  "metadata": {
    "colab": {
      "provenance": []
    },
    "kernelspec": {
      "name": "python3",
      "display_name": "Python 3"
    },
    "language_info": {
      "name": "python"
    }
  },
  "cells": [
    {
      "cell_type": "markdown",
      "source": [
        "# ASSIGNMENTS - Compulsory\n",
        "## Send it before 0000 hrs IST or 12 AM Wednesday\n",
        "\n",
        "## NOTE: Evaluation will be done before next class.\n",
        "\n",
        "## HOW TO SUBMIT: -\n",
        "Download this notebook, Solve it and upload in the google form given in the mail."
      ],
      "metadata": {
        "id": "cyOfbWCdOjEr"
      }
    },
    {
      "cell_type": "markdown",
      "source": [],
      "metadata": {
        "id": "s9T5GrbJlqca"
      }
    },
    {
      "cell_type": "markdown",
      "source": [
        "\n",
        "1. What is indentation error? Why indentation is important? Give one simple example?\n"
      ],
      "metadata": {
        "id": "gcovAbjnl4dB"
      }
    },
    {
      "cell_type": "markdown",
      "source": [
        "#### Ans:- If we are not providing proper white spaces so that the interpreter would able to understand the block of code that is what all lines of code to be executed  then we get Indentation Error."
      ],
      "metadata": {
        "id": "PyycVATJl6Q-"
      }
    },
    {
      "cell_type": "code",
      "source": [
        "calculated_age= 20\n",
        "print(f\"The age is : {calculated_age}\")"
      ],
      "metadata": {
        "colab": {
          "base_uri": "https://localhost:8080/"
        },
        "id": "d18QuqqPmqi3",
        "outputId": "bb8b45e5-d31f-4463-ab2b-c25a9ac04406"
      },
      "execution_count": 9,
      "outputs": [
        {
          "output_type": "stream",
          "name": "stdout",
          "text": [
            "The age is : 20\n"
          ]
        }
      ]
    },
    {
      "cell_type": "code",
      "source": [
        "class_started = int(input(\"If class started give input 1 otherwise give input 0 : \"))\n",
        "\n",
        "\n",
        "if  class_started :\n",
        "      print(\"Since class started...\")\n",
        "      print(\"Lets concentrate\")\n",
        "else:\n",
        "      print(\"Since class is not started...\")\n",
        "      print(\"let's revise\")"
      ],
      "metadata": {
        "colab": {
          "base_uri": "https://localhost:8080/"
        },
        "id": "fCanLwF7nWwk",
        "outputId": "fca30660-1ac7-414e-ac8d-94245faa093a"
      },
      "execution_count": 8,
      "outputs": [
        {
          "output_type": "stream",
          "name": "stdout",
          "text": [
            "If class started give input 1 otherwise give input 0 : 0\n",
            "Since class is not started...\n",
            "let's revise\n"
          ]
        }
      ]
    },
    {
      "cell_type": "markdown",
      "source": [
        "3. Use if else condition to verify that dataype of `input()` method in python is always string."
      ],
      "metadata": {
        "id": "ob9CIF8Qyz7m"
      }
    },
    {
      "cell_type": "code",
      "source": [
        "class_started = input(\"Hey friend, is class started?: [0-False/1-True]\")\n",
        "\n",
        "if type(class_started) == str:\n",
        "  print(type(class_started))\n",
        "  print(\"Input is a string\")\n",
        "else:\n",
        "  print(\"Input is not a string\")"
      ],
      "metadata": {
        "id": "HfPFd5MLy6eT",
        "colab": {
          "base_uri": "https://localhost:8080/"
        },
        "outputId": "6355e219-3c6b-4e52-a925-e598c59204fb"
      },
      "execution_count": 10,
      "outputs": [
        {
          "output_type": "stream",
          "name": "stdout",
          "text": [
            "Hey friend, is class started?: [0-False/1-True]1\n",
            "<class 'str'>\n",
            "Input is a string\n"
          ]
        }
      ]
    },
    {
      "cell_type": "markdown",
      "source": [
        "4. Take 3 variables and assign integer values to them. Find the largest variable, by only using the if and else conditions."
      ],
      "metadata": {
        "id": "du8GLeFp0cHT"
      }
    },
    {
      "cell_type": "code",
      "source": [
        "a= 1020\n",
        "\n",
        "b= 902\n",
        "c= 5006\n",
        "\n",
        "if a < b:\n",
        "  if b < c:\n",
        "    print(\"C is greater\")\n",
        "  else:\n",
        "    print(\"B is greater\")\n",
        "else:\n",
        "  print(\"A is greater\")\n"
      ],
      "metadata": {
        "colab": {
          "base_uri": "https://localhost:8080/"
        },
        "id": "_3QwaIDF0drT",
        "outputId": "0ea4a25d-7f37-48e6-bf8f-06f57b4026f2"
      },
      "execution_count": 11,
      "outputs": [
        {
          "output_type": "stream",
          "name": "stdout",
          "text": [
            "A is greater\n"
          ]
        }
      ]
    },
    {
      "cell_type": "markdown",
      "source": [
        "5. What would be the solution?\n",
        "\n",
        "True\n",
        "\n",
        "False"
      ],
      "metadata": {
        "id": "9ko9GKEGLUU8"
      }
    },
    {
      "cell_type": "code",
      "source": [
        "a = 6\n",
        "b = 10\n",
        "print( not ( not a == 10 or not b == 10) )"
      ],
      "metadata": {
        "colab": {
          "base_uri": "https://localhost:8080/"
        },
        "id": "D4z8rG9fLZ11",
        "outputId": "37f74996-cffd-4183-bcf0-129cfb7e54ed"
      },
      "execution_count": 13,
      "outputs": [
        {
          "output_type": "stream",
          "name": "stdout",
          "text": [
            "False\n"
          ]
        }
      ]
    },
    {
      "cell_type": "markdown",
      "source": [
        "6. Find the answer as well as find out the reason behind the result?"
      ],
      "metadata": {
        "id": "5JLyDmCHLl-9"
      }
    },
    {
      "cell_type": "code",
      "source": [
        "# Case 1\n",
        "\n",
        "A= 5.0\n",
        "B= 10/2\n",
        "\n",
        "print(A is B)\n",
        "\n",
        "\"\"\"A is floating type number with base 10 where as B is arithmatic operation with base 2 thats why the value is False. \n",
        "Python only prints a decimal approximation to the true decimal value of the binary approximation stored by the machine.\n",
        "\"\"\""
      ],
      "metadata": {
        "id": "pzde_Y1glVb_",
        "colab": {
          "base_uri": "https://localhost:8080/",
          "height": 70
        },
        "outputId": "b92924fa-06ba-476f-a84a-0bb3473817a7"
      },
      "execution_count": null,
      "outputs": [
        {
          "output_type": "stream",
          "name": "stdout",
          "text": [
            "False\n"
          ]
        },
        {
          "output_type": "execute_result",
          "data": {
            "text/plain": [
              "'A is floating type number with base 10 where as B is arithmatic operation with base 2 thats why the value is False. \\nPython only prints a decimal approximation to the true decimal value of the binary approximation stored by the machine.\\n'"
            ],
            "application/vnd.google.colaboratory.intrinsic+json": {
              "type": "string"
            }
          },
          "metadata": {},
          "execution_count": 9
        }
      ]
    },
    {
      "cell_type": "code",
      "source": [
        "# Case 2\n",
        "A = 5.0\n",
        "B = int(10/2)\n",
        "print(A is B)\n",
        "\n",
        "\"\"\"\n",
        "A is floating type number with base 10 and B is type casted to integer with base 2 so it is printed as False\n",
        "\"\"\""
      ],
      "metadata": {
        "colab": {
          "base_uri": "https://localhost:8080/",
          "height": 52
        },
        "id": "eY_zlRyWcdnM",
        "outputId": "584f9847-a5b5-41d3-d9d2-97ee44565412"
      },
      "execution_count": null,
      "outputs": [
        {
          "output_type": "stream",
          "name": "stdout",
          "text": [
            "False\n"
          ]
        },
        {
          "output_type": "execute_result",
          "data": {
            "text/plain": [
              "'\\nA is floating type number with base 10 and B is type casted to integer with base 2 so it is printed as False\\n'"
            ],
            "application/vnd.google.colaboratory.intrinsic+json": {
              "type": "string"
            }
          },
          "metadata": {},
          "execution_count": 10
        }
      ]
    },
    {
      "cell_type": "code",
      "source": [
        "A = 5.0\n",
        "B = float(10/2)\n",
        "print(A is B)\n",
        "\"\"\"\n",
        "the arithmatic expression is of base 2 and is converted to float type . Same as case 1 \n",
        "\n",
        "\"\"\""
      ],
      "metadata": {
        "colab": {
          "base_uri": "https://localhost:8080/",
          "height": 53
        },
        "id": "bbixXpV3cvFU",
        "outputId": "31973739-71ae-460f-b611-bf23a8361dac"
      },
      "execution_count": null,
      "outputs": [
        {
          "output_type": "stream",
          "name": "stdout",
          "text": [
            "False\n"
          ]
        },
        {
          "output_type": "execute_result",
          "data": {
            "text/plain": [
              "'\\nthe arithmatic expression is of base 2 and is converted to float type . Same as case 1 \\n\\n'"
            ],
            "application/vnd.google.colaboratory.intrinsic+json": {
              "type": "string"
            }
          },
          "metadata": {},
          "execution_count": 10
        }
      ]
    },
    {
      "cell_type": "markdown",
      "source": [
        "### Try to understand the following examples and answer the question based on it - \n",
        "    \n",
        "**Arithmatic Operators**\n",
        "\n",
        "|Operation|Meaning|\n",
        "|:-:|:-:|\n",
        "| **+** |addition|\n",
        "| **-** |subtraction|\n",
        "| **\\*** |multiplication|\n",
        "| **/** |true division|\n",
        "| **//** |integer division|\n",
        "| **%** |the modulo operator|\n",
        "\n",
        "\n",
        "Here `+`, `-`, `*`, `/` are regular arithmatic operators. Lets look at the `//` and `%` operators\n",
        "\n",
        "Usecase or examples - \n",
        "    \n",
        "```python\n",
        "var_a = 5\n",
        "var_b = 25\n",
        "integer_division = var_b // var_a\n",
        "print(f\"integer division: {var_b}/{var_a}={integer_division}\")\n",
        "```\n",
        "\n",
        "OUTPUT: integer division: 25/5=5\n",
        "\n",
        "```python\n",
        "var_a = 3\n",
        "var_b = 25\n",
        "integer_division = var_b // var_a\n",
        "print(f\"integer division: {var_b}/{var_a}={integer_division}\")\n",
        "```\n",
        "\n",
        "OUTPUT: integer division: 25/3=8\n",
        "\n",
        "```python\n",
        "var_a = 5\n",
        "var_b = 25\n",
        "remainder = var_b % var_a\n",
        "print(f\"remainder: {var_b}/{var_a} is {remainder}\")\n",
        "```\n",
        "\n",
        "OUTPUT: remainder: 25/5 is 0\n",
        "\n",
        "```python\n",
        "var_a = 3\n",
        "var_b = 25\n",
        "remainder = var_b % var_a\n",
        "print(f\"remainder: {var_b}/{var_a} is {remainder}\")\n",
        "```\n",
        "\n",
        "OUTPUT: remainder: 25/3 is 1\n",
        "\n"
      ],
      "metadata": {
        "id": "a_4kbBVWNY-4"
      }
    },
    {
      "cell_type": "markdown",
      "source": [
        "\n",
        "7. Write a program that asks the user to enter a number. You should print out a message to the user, either “That number is divisible by either 3 or 5”, or “That number is not divisible by either 3 or 5”. Be sure to consider the data type of the input you are taking in from the user. Use a single if/else block to solve this problem."
      ],
      "metadata": {
        "id": "z8JVFnm0d19B"
      }
    },
    {
      "cell_type": "code",
      "source": [
        "number = int(input(\"Please enter the number to check for the divisibility by 3 or 5 : \"))\n",
        "\n",
        "if number % 3 ==0  or number % 5 == 0:\n",
        "  print(\"The number is either divisible by 3 or 5\")\n",
        "else:\n",
        "  print(\"The number is not divisble by 3 or 5\")"
      ],
      "metadata": {
        "colab": {
          "base_uri": "https://localhost:8080/"
        },
        "id": "ucOvr5H8d4Cf",
        "outputId": "57b6ff81-819b-4872-a6e4-9a1620c2d762"
      },
      "execution_count": null,
      "outputs": [
        {
          "output_type": "stream",
          "name": "stdout",
          "text": [
            "Please enter the number to check for the divisibility by 3 or 5 : 4\n",
            "The number is not divisble by 3 or 5\n"
          ]
        }
      ]
    },
    {
      "cell_type": "markdown",
      "source": [
        "8. Take user input for length and width. Then calculate the area of rectangle. Also print as per length and width whether its a square of rectangle."
      ],
      "metadata": {
        "id": "2pqcWfdeezi8"
      }
    },
    {
      "cell_type": "code",
      "source": [
        "length = int(input(\"Please enter the length in metres: \"))\n",
        "width = int(input(\"Please enter the width in metres: \"))\n",
        "\n",
        "area= length * width\n",
        "\n",
        "if (length == width):\n",
        "  print(f\"As the length {length} metre and width {width} metres are same so it is a square\")\n",
        "\n",
        "else:\n",
        "  print(f\"The area of the rectangle with length {length} metres and width {width} metres is : {area} sq. metres\")\n"
      ],
      "metadata": {
        "colab": {
          "base_uri": "https://localhost:8080/"
        },
        "id": "FKEL-LZze3Lp",
        "outputId": "e4351c41-fb63-4fb4-f882-b477c584ecc0"
      },
      "execution_count": 2,
      "outputs": [
        {
          "output_type": "stream",
          "name": "stdout",
          "text": [
            "Please enter the length in metres: 4\n",
            "Please enter the width in metres: 4\n",
            "As the length 4 metre and width 4 metres are same so it is a square\n"
          ]
        }
      ]
    },
    {
      "cell_type": "markdown",
      "source": [
        "\n",
        "9. Take two variable radius_1 and radius_2 and calculate the area of circle_1 and circle_2. Also print which circle has large area. If area is equal then print area is equal."
      ],
      "metadata": {
        "id": "4F4GEQpWf7hq"
      }
    },
    {
      "cell_type": "code",
      "source": [
        "radius_1 = int(input(\"Please enter the radius of the 1st circle in mts : \"))\n",
        "radius_2 = int(input(\"Please enter the radius of the 2nd circle in mts : \"))\n",
        "\n",
        "area_circle_1 =  3.14 * radius_1 ** 2\n",
        "area_circle_2 =  3.14 * radius_2 ** 2\n",
        "\n",
        "if area_circle_1 == area_circle_2:\n",
        "  print(\"Both the circles have equal Area\")\n",
        "else:\n",
        "  if area_circle_1 > area_circle_2:\n",
        "    print(f\"Circle one has larger area of {area_circle_1} sq mts \")\n",
        "  else:\n",
        "    print(f\"Circle two has larger area of {area_circle_2} sq. mts \")\n",
        "\n",
        "\n",
        "\n",
        "  "
      ],
      "metadata": {
        "colab": {
          "base_uri": "https://localhost:8080/"
        },
        "id": "VCEJSqskf_Rt",
        "outputId": "263e45a7-066b-43c4-806a-63ae623fa970"
      },
      "execution_count": 1,
      "outputs": [
        {
          "output_type": "stream",
          "name": "stdout",
          "text": [
            "Please enter the radius of the 1st circle in mts : 4\n",
            "Please enter the radius of the 2nd circle in mts : 5\n",
            "Circle two has larger area of 78.5 sq. mts \n"
          ]
        }
      ]
    },
    {
      "cell_type": "markdown",
      "source": [
        "10. Check whether a year is leap year or not. Use nested if...else to solve this problem. A leap year is exactly divisible by 4 except for century years (years ending with 00). The century year is a leap year only if it is perfectly divisible by 400."
      ],
      "metadata": {
        "id": "mZDDaS29hoJL"
      }
    },
    {
      "cell_type": "code",
      "source": [
        "leap_year = 2100\n",
        "\n",
        "if leap_year % 4 == 0 :\n",
        "  if leap_year % 400 ==0:\n",
        "    print(\"It is a leap year\")\n",
        "  else:\n",
        "    print(\"Not a leap year\")\n",
        "else:\n",
        "  print(\"It is not a leap year\")"
      ],
      "metadata": {
        "colab": {
          "base_uri": "https://localhost:8080/"
        },
        "id": "Y29TBfN8hs4O",
        "outputId": "d082efa4-66ff-4b79-c43a-ca3b0d032a9d"
      },
      "execution_count": 12,
      "outputs": [
        {
          "output_type": "stream",
          "name": "stdout",
          "text": [
            "Not a leap year\n"
          ]
        }
      ]
    }
  ]
}